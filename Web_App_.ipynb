{
  "cells": [
    {
      "cell_type": "markdown",
      "metadata": {
        "id": "view-in-github",
        "colab_type": "text"
      },
      "source": [
        "<a href=\"https://colab.research.google.com/github/NourhanSowar/Spotify-Skip-Action-Prediction-Data-Science-Internship/blob/main/Web_App_.ipynb\" target=\"_parent\"><img src=\"https://colab.research.google.com/assets/colab-badge.svg\" alt=\"Open In Colab\"/></a>"
      ]
    },
    {
      "cell_type": "code",
      "execution_count": 6,
      "metadata": {
        "colab": {
          "base_uri": "https://localhost:8080/"
        },
        "id": "KU0A3sgsnEfs",
        "outputId": "10c549f7-60cc-40e9-dff4-de1c30922a40"
      },
      "outputs": [
        {
          "output_type": "stream",
          "name": "stdout",
          "text": [
            "Collecting flask-ngrok\n",
            "  Downloading flask_ngrok-0.0.25-py3-none-any.whl (3.1 kB)\n",
            "Requirement already satisfied: Flask>=0.8 in /usr/local/lib/python3.7/dist-packages (from flask-ngrok) (1.1.4)\n",
            "Requirement already satisfied: requests in /usr/local/lib/python3.7/dist-packages (from flask-ngrok) (2.23.0)\n",
            "Requirement already satisfied: click<8.0,>=5.1 in /usr/local/lib/python3.7/dist-packages (from Flask>=0.8->flask-ngrok) (7.1.2)\n",
            "Requirement already satisfied: Jinja2<3.0,>=2.10.1 in /usr/local/lib/python3.7/dist-packages (from Flask>=0.8->flask-ngrok) (2.11.3)\n",
            "Requirement already satisfied: itsdangerous<2.0,>=0.24 in /usr/local/lib/python3.7/dist-packages (from Flask>=0.8->flask-ngrok) (1.1.0)\n",
            "Requirement already satisfied: Werkzeug<2.0,>=0.15 in /usr/local/lib/python3.7/dist-packages (from Flask>=0.8->flask-ngrok) (1.0.1)\n",
            "Requirement already satisfied: MarkupSafe>=0.23 in /usr/local/lib/python3.7/dist-packages (from Jinja2<3.0,>=2.10.1->Flask>=0.8->flask-ngrok) (2.0.1)\n",
            "Requirement already satisfied: chardet<4,>=3.0.2 in /usr/local/lib/python3.7/dist-packages (from requests->flask-ngrok) (3.0.4)\n",
            "Requirement already satisfied: certifi>=2017.4.17 in /usr/local/lib/python3.7/dist-packages (from requests->flask-ngrok) (2021.10.8)\n",
            "Requirement already satisfied: urllib3!=1.25.0,!=1.25.1,<1.26,>=1.21.1 in /usr/local/lib/python3.7/dist-packages (from requests->flask-ngrok) (1.24.3)\n",
            "Requirement already satisfied: idna<3,>=2.5 in /usr/local/lib/python3.7/dist-packages (from requests->flask-ngrok) (2.10)\n",
            "Installing collected packages: flask-ngrok\n",
            "Successfully installed flask-ngrok-0.0.25\n",
            "Collecting flask-bootstrap\n",
            "  Downloading Flask-Bootstrap-3.3.7.1.tar.gz (456 kB)\n",
            "\u001b[K     |████████████████████████████████| 456 kB 7.4 MB/s \n",
            "\u001b[?25hRequirement already satisfied: Flask>=0.8 in /usr/local/lib/python3.7/dist-packages (from flask-bootstrap) (1.1.4)\n",
            "Collecting dominate\n",
            "  Downloading dominate-2.6.0-py2.py3-none-any.whl (29 kB)\n",
            "Collecting visitor\n",
            "  Downloading visitor-0.1.3.tar.gz (3.3 kB)\n",
            "Requirement already satisfied: itsdangerous<2.0,>=0.24 in /usr/local/lib/python3.7/dist-packages (from Flask>=0.8->flask-bootstrap) (1.1.0)\n",
            "Requirement already satisfied: Jinja2<3.0,>=2.10.1 in /usr/local/lib/python3.7/dist-packages (from Flask>=0.8->flask-bootstrap) (2.11.3)\n",
            "Requirement already satisfied: click<8.0,>=5.1 in /usr/local/lib/python3.7/dist-packages (from Flask>=0.8->flask-bootstrap) (7.1.2)\n",
            "Requirement already satisfied: Werkzeug<2.0,>=0.15 in /usr/local/lib/python3.7/dist-packages (from Flask>=0.8->flask-bootstrap) (1.0.1)\n",
            "Requirement already satisfied: MarkupSafe>=0.23 in /usr/local/lib/python3.7/dist-packages (from Jinja2<3.0,>=2.10.1->Flask>=0.8->flask-bootstrap) (2.0.1)\n",
            "Building wheels for collected packages: flask-bootstrap, visitor\n",
            "  Building wheel for flask-bootstrap (setup.py) ... \u001b[?25l\u001b[?25hdone\n",
            "  Created wheel for flask-bootstrap: filename=Flask_Bootstrap-3.3.7.1-py3-none-any.whl size=460123 sha256=e41d377199531ade7f64b63ea87e9b55a9df1f8c911eee690c316a238726b28c\n",
            "  Stored in directory: /root/.cache/pip/wheels/67/a2/d6/50d039c9b59b4caca6d7b53839c8100354a52ab7553d2456eb\n",
            "  Building wheel for visitor (setup.py) ... \u001b[?25l\u001b[?25hdone\n",
            "  Created wheel for visitor: filename=visitor-0.1.3-py3-none-any.whl size=3946 sha256=ddc38cad326ce11ef95e7bf9b723a5e224e730fbae7b37927c1124c07a172550\n",
            "  Stored in directory: /root/.cache/pip/wheels/64/34/11/053f47218984c9a31a00f911ed98dda036b867481dcc527a12\n",
            "Successfully built flask-bootstrap visitor\n",
            "Installing collected packages: visitor, dominate, flask-bootstrap\n",
            "Successfully installed dominate-2.6.0 flask-bootstrap-3.3.7.1 visitor-0.1.3\n"
          ]
        }
      ],
      "source": [
        "!pip install flask-ngrok\n",
        "!pip install flask-bootstrap"
      ]
    },
    {
      "cell_type": "code",
      "source": [
        "!pip install pyngrok\n",
        "!ngrok authtoken 23EGucliEsZDDf1qn0GOI4DCWYH_4Qm4TrCzhppD1yy6NVUuX"
      ],
      "metadata": {
        "colab": {
          "base_uri": "https://localhost:8080/"
        },
        "id": "K40wEqd5qtE5",
        "outputId": "1e3d13f7-07a7-4d23-e0a0-f83093147a2d"
      },
      "execution_count": 13,
      "outputs": [
        {
          "output_type": "stream",
          "name": "stdout",
          "text": [
            "Requirement already satisfied: pyngrok in /usr/local/lib/python3.7/dist-packages (5.1.0)\n",
            "Requirement already satisfied: PyYAML in /usr/local/lib/python3.7/dist-packages (from pyngrok) (3.13)\n",
            "Authtoken saved to configuration file: /root/.ngrok2/ngrok.yml\n"
          ]
        }
      ]
    },
    {
      "cell_type": "markdown",
      "source": [
        "* test"
      ],
      "metadata": {
        "id": "0_y36tgy9z6q"
      }
    },
    {
      "cell_type": "code",
      "execution_count": 14,
      "metadata": {
        "colab": {
          "base_uri": "https://localhost:8080/"
        },
        "id": "nnrdrYV_tkSZ",
        "outputId": "ab38d0d0-cc49-4df6-e914-c1687fe27301"
      },
      "outputs": [
        {
          "output_type": "stream",
          "name": "stdout",
          "text": [
            " * Serving Flask app \"__main__\" (lazy loading)\n",
            " * Environment: production\n",
            "\u001b[31m   WARNING: This is a development server. Do not use it in a production deployment.\u001b[0m\n",
            "\u001b[2m   Use a production WSGI server instead.\u001b[0m\n",
            " * Debug mode: off\n"
          ]
        },
        {
          "output_type": "stream",
          "name": "stderr",
          "text": [
            "2022-01-17 12:27:48.504 INFO    werkzeug:  * Running on http://127.0.0.1:5000/ (Press CTRL+C to quit)\n"
          ]
        },
        {
          "output_type": "stream",
          "name": "stdout",
          "text": [
            " * Running on http://41d4-34-125-221-85.ngrok.io\n",
            " * Traffic stats available on http://127.0.0.1:4040\n"
          ]
        }
      ],
      "source": [
        "from flask import Flask\n",
        "from flask_ngrok import run_with_ngrok\n",
        "\n",
        "app = Flask(__name__)\n",
        "run_with_ngrok(app)\n",
        "\n",
        "@app.route(\"/\")\n",
        "def home():\n",
        "\treturn \"<h1>Hello Norhan </h1>\"\n",
        "\n",
        "app.run()"
      ]
    },
    {
      "cell_type": "code",
      "source": [
        "import numpy as np\n",
        "import pandas as pd\n",
        "from flask import Flask, request, jsonify, render_template\n",
        "from flask_ngrok import run_with_ngrok\n",
        "\n",
        "import pickle\n",
        "from sklearn.preprocessing import OneHotEncoder\n",
        "from sklearn.preprocessing import StandardScaler\n",
        "\n",
        "app = Flask(__name__)\n",
        "run_with_ngrok(app)\n",
        "model = pickle.load(open('model_final.pkl', 'rb'))\n",
        "\n",
        "@app.route('/')\n",
        "def home():\n",
        "    return render_template('index2.html')\n",
        "\n",
        "@app.route('/predict',methods=['POST'])\n",
        "def predict():\n",
        "    '''\n",
        "    For rendering results on HTML GUI\n",
        "    '''\n",
        "    \n",
        "    tf_mini = pd.read_csv('https://drive.google.com/uc?export=download&id=1Zcd6o-sM0iP5nNZF1FPbOiVpsN6o0KVJ') \n",
        "    web_app_scaling_df = pd.read_csv('web_app_scaling_df.csv')      \n",
        "\n",
        "    form_data = {'session_position' : request.form['session_position'],  # request.form.get('session_position')\n",
        "                 'session_length' : request.form['session_length'],\n",
        "                 'track_id' : request.form['track_id'],\n",
        "                 'context_switch' : request.form['context_switch'],\n",
        "                 'no_pause_before_play' : request.form['no_pause_before_play'],\n",
        "                 'hist_user_behavior_n_seekfwd' : request.form['hist_user_behavior_n_seekfwd'],\n",
        "                 'hist_user_behavior_n_seekback' : request.form['hist_user_behavior_n_seekback'],\n",
        "                 'hist_user_behavior_is_shuffle' : request.form['hist_user_behavior_is_shuffle'],\n",
        "                 'hour_of_day' : request.form['hour_of_day'],\n",
        "                 'date' : request.form['date'],\n",
        "                 'premium' : request.form['premium'],\n",
        "                 'context_type' : request.form['context_type'],\n",
        "                 'hist_user_behavior_reason_start' : request.form['hist_user_behavior_reason_start'],\n",
        "                 'hist_user_behavior_reason_end' : request.form['hist_user_behavior_reason_end']         }\n",
        "    \n",
        "    form_df = pd.DataFrame([list(form_data.values())], columns=list(form_data.keys()))\n",
        "    \n",
        "    # Merging form_df & track_df into single dataframe.\n",
        "    session_track_data = pd.merge(form_df, tf_mini, on='track_id', how='left')\n",
        "    \n",
        "    # Replacing boolean (True, False) by int32 (1, 0)\n",
        "    session_track_data.replace(['Yes', 'No'], [1, 0], inplace=True)\n",
        "    # encoding the mode\n",
        "    session_track_data['mode'].replace({'major': 1, 'minor': 0 }, inplace=True)\n",
        "    \n",
        "    # chaning the date to weekday and droping the date column\n",
        "    session_track_data[\"date\"] = pd.to_datetime(session_track_data[\"date\"])\n",
        "    session_track_data['week_day'] = session_track_data[\"date\"].dt.dayofweek\n",
        "    session_track_data.drop(\"date\", inplace=True, axis=1)\n",
        "    \n",
        "    session_track_data.replace(['playbtn', 'remote', 'trackerror', 'endplay', 'clickrow'], 'merged', inplace=True)\n",
        "    \n",
        "    # setting one hot encoding for categorical columns (Nominal Columns)\n",
        "    One_Hot_Encoder = OneHotEncoder()\n",
        "\n",
        "    context_type = pd.DataFrame(One_Hot_Encoder.fit_transform(session_track_data[['context_type']]).toarray())\n",
        "    context_type.columns = One_Hot_Encoder.get_feature_names(['context_type'])\n",
        "\n",
        "    hist_user_behavior_reason_start = pd.DataFrame(One_Hot_Encoder.fit_transform(session_track_data[['hist_user_behavior_reason_start']]).toarray())\n",
        "    hist_user_behavior_reason_start.columns = One_Hot_Encoder.get_feature_names(['hub_reason_start']) # hub = hist_user_behavior\n",
        "\n",
        "    hist_user_behavior_reason_end = pd.DataFrame(One_Hot_Encoder.fit_transform(session_track_data[['hist_user_behavior_reason_end']]).toarray())\n",
        "    hist_user_behavior_reason_end.columns = One_Hot_Encoder.get_feature_names(['hub_reason_end'])  # hub = hist_user_behavior\n",
        "\n",
        "    # Concatenate dataframe --> session_track_data + context_type + hist_user_behavior_reason_start + hist_user_behavior_reason_end\n",
        "    session_track_data = pd.concat([session_track_data, context_type, hist_user_behavior_reason_start, hist_user_behavior_reason_end], axis = 1)\n",
        "\n",
        "    session_track_data.drop([\"context_type\", \"hist_user_behavior_reason_start\", \"hist_user_behavior_reason_end\", \"track_id\"], axis = 1, inplace = True)\n",
        "    \n",
        "    # drop all highly correlated variables.\n",
        "    session_track_data.drop(['beat_strength', 'danceability', 'dyn_range_mean'], axis=1, inplace=True)\n",
        "\n",
        "    web_app_scaling_df.drop(['Unnamed: 0'], axis=1, inplace=True)\n",
        "    web_app_scaling_df = web_app_scaling_df.append(session_track_data)\n",
        "    web_app_scaling_df.replace([np.nan], [0], inplace=True)\n",
        "    web_app_scaling_df.reset_index(drop = True, inplace = True)\n",
        "    \n",
        "    # Scaling\n",
        "    scaler = StandardScaler()\n",
        "    for col in web_app_scaling_df.columns:\n",
        "        if (len(web_app_scaling_df[col].unique()) != 2) :\n",
        "            web_app_scaling_df[col] = scaler.fit_transform(np.array(web_app_scaling_df[col]).reshape(-1, 1))\n",
        "            \n",
        "    prediction = model.predict(web_app_scaling_df.tail(1))[0]\n",
        "    output = ['Not Skip', 'Skip']\n",
        "\n",
        "    return render_template('index.html', prediction_text= 'Prediction: Probably user will \"{}\" this Music track.'.format(output[prediction]))\n",
        "\n",
        "if __name__ == \"__main__\":\n",
        "    app.run()\n",
        "    \n"
      ],
      "metadata": {
        "colab": {
          "base_uri": "https://localhost:8080/"
        },
        "id": "2WHr7rPFWv71",
        "outputId": "90c5f726-ae12-45e1-a78c-bd9fe43cae10"
      },
      "execution_count": null,
      "outputs": [
        {
          "output_type": "stream",
          "name": "stdout",
          "text": [
            " * Serving Flask app \"__main__\" (lazy loading)\n",
            " * Environment: production\n",
            "\u001b[31m   WARNING: This is a development server. Do not use it in a production deployment.\u001b[0m\n",
            "\u001b[2m   Use a production WSGI server instead.\u001b[0m\n",
            " * Debug mode: off\n"
          ]
        },
        {
          "output_type": "stream",
          "name": "stderr",
          "text": [
            "/usr/local/lib/python3.7/dist-packages/sklearn/base.py:338: UserWarning: Trying to unpickle estimator DecisionTreeClassifier from version 0.23.2 when using version 1.0.2. This might lead to breaking code or invalid results. Use at your own risk. For more info please refer to:\n",
            "https://scikit-learn.org/stable/modules/model_persistence.html#security-maintainability-limitations\n",
            "  UserWarning,\n",
            "2022-01-17 13:08:36.122 INFO    werkzeug:  * Running on http://127.0.0.1:5000/ (Press CTRL+C to quit)\n"
          ]
        },
        {
          "output_type": "stream",
          "name": "stdout",
          "text": [
            " * Running on http://ae49-34-125-221-85.ngrok.io\n",
            " * Traffic stats available on http://127.0.0.1:4040\n"
          ]
        },
        {
          "output_type": "stream",
          "name": "stderr",
          "text": [
            "2022-01-17 13:08:42.513 INFO    werkzeug: 127.0.0.1 - - [17/Jan/2022 13:08:42] \"\u001b[37mGET / HTTP/1.1\u001b[0m\" 200 -\n",
            "2022-01-17 13:08:43.451 INFO    werkzeug: 127.0.0.1 - - [17/Jan/2022 13:08:43] \"\u001b[33mGET /favicon.ico HTTP/1.1\u001b[0m\" 404 -\n",
            "/usr/local/lib/python3.7/dist-packages/sklearn/utils/deprecation.py:87: FutureWarning: Function get_feature_names is deprecated; get_feature_names is deprecated in 1.0 and will be removed in 1.2. Please use get_feature_names_out instead.\n",
            "  warnings.warn(msg, category=FutureWarning)\n",
            "/usr/local/lib/python3.7/dist-packages/sklearn/utils/deprecation.py:87: FutureWarning: Function get_feature_names is deprecated; get_feature_names is deprecated in 1.0 and will be removed in 1.2. Please use get_feature_names_out instead.\n",
            "  warnings.warn(msg, category=FutureWarning)\n",
            "/usr/local/lib/python3.7/dist-packages/sklearn/utils/deprecation.py:87: FutureWarning: Function get_feature_names is deprecated; get_feature_names is deprecated in 1.0 and will be removed in 1.2. Please use get_feature_names_out instead.\n",
            "  warnings.warn(msg, category=FutureWarning)\n",
            "/usr/local/lib/python3.7/dist-packages/sklearn/base.py:444: UserWarning: X has feature names, but DecisionTreeClassifier was fitted without feature names\n",
            "  f\"X has feature names, but {self.__class__.__name__} was fitted without\"\n",
            "2022-01-17 13:09:17.135 INFO    werkzeug: 127.0.0.1 - - [17/Jan/2022 13:09:17] \"\u001b[37mPOST /predict HTTP/1.1\u001b[0m\" 200 -\n",
            "/usr/local/lib/python3.7/dist-packages/sklearn/utils/deprecation.py:87: FutureWarning: Function get_feature_names is deprecated; get_feature_names is deprecated in 1.0 and will be removed in 1.2. Please use get_feature_names_out instead.\n",
            "  warnings.warn(msg, category=FutureWarning)\n",
            "/usr/local/lib/python3.7/dist-packages/sklearn/utils/deprecation.py:87: FutureWarning: Function get_feature_names is deprecated; get_feature_names is deprecated in 1.0 and will be removed in 1.2. Please use get_feature_names_out instead.\n",
            "  warnings.warn(msg, category=FutureWarning)\n",
            "/usr/local/lib/python3.7/dist-packages/sklearn/utils/deprecation.py:87: FutureWarning: Function get_feature_names is deprecated; get_feature_names is deprecated in 1.0 and will be removed in 1.2. Please use get_feature_names_out instead.\n",
            "  warnings.warn(msg, category=FutureWarning)\n",
            "/usr/local/lib/python3.7/dist-packages/sklearn/base.py:444: UserWarning: X has feature names, but DecisionTreeClassifier was fitted without feature names\n",
            "  f\"X has feature names, but {self.__class__.__name__} was fitted without\"\n",
            "2022-01-17 13:10:43.530 INFO    werkzeug: 127.0.0.1 - - [17/Jan/2022 13:10:43] \"\u001b[37mPOST /predict HTTP/1.1\u001b[0m\" 200 -\n"
          ]
        }
      ]
    },
    {
      "cell_type": "code",
      "source": [
        ""
      ],
      "metadata": {
        "id": "Eg4UvLabYkfY"
      },
      "execution_count": null,
      "outputs": []
    }
  ],
  "metadata": {
    "colab": {
      "name": "Web App .ipynb",
      "provenance": [],
      "authorship_tag": "ABX9TyNYikmaUxUKGEWym5wpnLmh",
      "include_colab_link": true
    },
    "kernelspec": {
      "display_name": "Python 3",
      "name": "python3"
    },
    "language_info": {
      "name": "python"
    }
  },
  "nbformat": 4,
  "nbformat_minor": 0
}